{
 "cells": [
  {
   "cell_type": "code",
   "execution_count": 1,
   "metadata": {},
   "outputs": [],
   "source": [
    "import torch\n",
    "\n",
    "x = torch.empty(1)\n",
    "print(\"empty(1) : \",x)\n",
    "print()\n",
    "\n",
    "x = torch.empty(2,3)\n",
    "print(\"empty(2,3)\",x)\n",
    "print()\n",
    "\n",
    "x = torch.empty(2,2,3)\n",
    "print(\"empty(2,2,3)\",x)\n",
    "print()\n",
    "\n",
    "x = torch.rand(5,3)\n",
    "print(\"torch rand(5,3) : \",x)\n",
    "print()\n",
    "\n",
    "x = torch.zeros(5,3)\n",
    "print(\"torch zeros(5,3) : \",x)\n",
    "print()\n",
    "\n"
   ]
  },
  {
   "cell_type": "code",
   "execution_count": null,
   "metadata": {},
   "outputs": [],
   "source": []
  }
 ],
 "metadata": {
  "kernelspec": {
   "display_name": "venv",
   "language": "python",
   "name": "python3"
  },
  "language_info": {
   "codemirror_mode": {
    "name": "ipython",
    "version": 3
   },
   "file_extension": ".py",
   "mimetype": "text/x-python",
   "name": "python",
   "nbconvert_exporter": "python",
   "pygments_lexer": "ipython3",
   "version": "3.11.9"
  }
 },
 "nbformat": 4,
 "nbformat_minor": 2
}
